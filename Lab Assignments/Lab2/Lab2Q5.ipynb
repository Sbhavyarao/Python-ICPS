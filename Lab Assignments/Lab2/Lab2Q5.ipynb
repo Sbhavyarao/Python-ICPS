{
  "nbformat": 4,
  "nbformat_minor": 0,
  "metadata": {
    "colab": {
      "name": "Lab2Q5.ipynb",
      "provenance": []
    },
    "kernelspec": {
      "name": "python3",
      "display_name": "Python 3"
    },
    "accelerator": "TPU"
  },
  "cells": [
    {
      "cell_type": "code",
      "metadata": {
        "id": "QMBA0H1tmBrQ",
        "colab_type": "code",
        "colab": {}
      },
      "source": [
        "import re\n",
        "import matplotlib.pyplot as plot\n",
        "import pandas as pd\n",
        "from keras import Sequential\n",
        "from keras.constraints import maxnorm\n",
        "from keras.layers import Embedding, Conv1D, Dropout, MaxPooling1D, Flatten, Dense, LSTM, SpatialDropout1D\n",
        "from keras.optimizers import SGD\n",
        "from keras.utils import to_categorical\n",
        "from keras_preprocessing.sequence import pad_sequences\n",
        "from keras_preprocessing.text import Tokenizer\n",
        "from sklearn.model_selection import train_test_split\n",
        "from sklearn.preprocessing import LabelEncoder"
      ],
      "execution_count": 0,
      "outputs": []
    },
    {
      "cell_type": "code",
      "metadata": {
        "id": "pPZUP3_AmTYd",
        "colab_type": "code",
        "colab": {}
      },
      "source": [
        "train_movie_df = pd.read_csv('train.tsv', delimiter='\\t', encoding='utf-8')\n",
        "test_movie_df = pd.read_csv('test.tsv', delimiter='\\t', encoding='utf-8')"
      ],
      "execution_count": 0,
      "outputs": []
    },
    {
      "cell_type": "code",
      "metadata": {
        "id": "RZcbQUNlmWcc",
        "colab_type": "code",
        "colab": {}
      },
      "source": [
        "train_movie_df = train_movie_df.drop(columns=['PhraseId', 'SentenceId'])\n",
        "label=train_movie_df[['Sentiment']]\n",
        "train_movie_df=train_movie_df.drop(columns=['Sentiment'])\n",
        "test_movie_df = test_movie_df.drop(columns=['PhraseId', 'SentenceId'])"
      ],
      "execution_count": 0,
      "outputs": []
    },
    {
      "cell_type": "code",
      "metadata": {
        "id": "nVJAbqjzmayN",
        "colab_type": "code",
        "colab": {}
      },
      "source": [
        "train_movie_df['Phrase'] = train_movie_df['Phrase'].apply(lambda x: re.sub('[^a-zA-z0-9\\s]', '', x.lower()))\n",
        "test_movie_df['Phrase'] = test_movie_df['Phrase'].apply(lambda x: re.sub('[^a-zA-z0-9\\s]', '', x.lower()))"
      ],
      "execution_count": 0,
      "outputs": []
    },
    {
      "cell_type": "code",
      "metadata": {
        "id": "xM0_YFkZmdjF",
        "colab_type": "code",
        "colab": {}
      },
      "source": [
        "max_fatures = 2000\n",
        "tokenizer = Tokenizer(num_words=max_fatures, split=' ')\n",
        "tokenizer.fit_on_texts(train_movie_df['Phrase'].values)\n",
        "X_train = tokenizer.texts_to_sequences(train_movie_df['Phrase'].values)\n",
        "X_train = pad_sequences(X_train)"
      ],
      "execution_count": 0,
      "outputs": []
    },
    {
      "cell_type": "code",
      "metadata": {
        "id": "bFkGkzXknoam",
        "colab_type": "code",
        "colab": {
          "base_uri": "https://localhost:8080/",
          "height": 34
        },
        "outputId": "d454750a-11ea-44b6-cd09-4b558e8baa0d"
      },
      "source": [
        "X_train.shape"
      ],
      "execution_count": 48,
      "outputs": [
        {
          "output_type": "execute_result",
          "data": {
            "text/plain": [
              "(156060, 45)"
            ]
          },
          "metadata": {
            "tags": []
          },
          "execution_count": 48
        }
      ]
    },
    {
      "cell_type": "code",
      "metadata": {
        "id": "K_2viBuenB36",
        "colab_type": "code",
        "colab": {}
      },
      "source": [
        "\n",
        "max_fatures = 1000\n",
        "tokenizer = Tokenizer(num_words=max_fatures, split=' ')\n",
        "tokenizer.fit_on_texts(test_movie_df['Phrase'].values)\n",
        "X_test = tokenizer.texts_to_sequences(test_movie_df['Phrase'].values)\n",
        "X_test = pad_sequences(X_test)"
      ],
      "execution_count": 0,
      "outputs": []
    },
    {
      "cell_type": "code",
      "metadata": {
        "id": "_rwOGbBhoGRF",
        "colab_type": "code",
        "colab": {
          "base_uri": "https://localhost:8080/",
          "height": 34
        },
        "outputId": "7004393b-ecbf-4440-827f-36f39bd4479b"
      },
      "source": [
        "X_test.shape"
      ],
      "execution_count": 50,
      "outputs": [
        {
          "output_type": "execute_result",
          "data": {
            "text/plain": [
              "(66292, 45)"
            ]
          },
          "metadata": {
            "tags": []
          },
          "execution_count": 50
        }
      ]
    },
    {
      "cell_type": "code",
      "metadata": {
        "id": "VGEZL4VhnGB0",
        "colab_type": "code",
        "colab": {}
      },
      "source": [
        "embed_dim = 20\n",
        "lstm_out = 10  "
      ],
      "execution_count": 0,
      "outputs": []
    },
    {
      "cell_type": "code",
      "metadata": {
        "id": "HY5ok92RnJaU",
        "colab_type": "code",
        "colab": {}
      },
      "source": [
        "def create_model():\n",
        "    model = Sequential()\n",
        "    model.add(Embedding(13734, embed_dim, input_length=X_train.shape[1]))\n",
        "    # model.add(SpatialDropout1D(0.4))\n",
        "    model.add(LSTM(lstm_out, dropout=0.2, recurrent_dropout=0.2))\n",
        "    model.add(Dense(5, activation='softmax'))\n",
        "    model.compile(loss='categorical_crossentropy', optimizer='adam', metrics=['accuracy'])\n",
        "    return model"
      ],
      "execution_count": 0,
      "outputs": []
    },
    {
      "cell_type": "code",
      "metadata": {
        "id": "3w-saWNznNYl",
        "colab_type": "code",
        "colab": {
          "base_uri": "https://localhost:8080/",
          "height": 105
        },
        "outputId": "c2e8d2fc-0294-4e12-a6d8-944bf7ebb979"
      },
      "source": [
        "label_encoder = LabelEncoder()\n",
        "integer_encoded = label_encoder.fit_transform(label)\n",
        "Y_train = to_categorical(integer_encoded)\n",
        "X_tr, X_te, Y_tr, Y_te = train_test_split(X_train, Y_train, test_size=0.25, random_state=30)\n",
        "print(X_tr.shape,Y_tr.shape)\n",
        "print(X_te.shape,Y_te.shape)"
      ],
      "execution_count": 58,
      "outputs": [
        {
          "output_type": "stream",
          "text": [
            "(117045, 45) (117045, 5)\n",
            "(39015, 45) (39015, 5)\n"
          ],
          "name": "stdout"
        },
        {
          "output_type": "stream",
          "text": [
            "/usr/local/lib/python3.6/dist-packages/sklearn/preprocessing/_label.py:251: DataConversionWarning: A column-vector y was passed when a 1d array was expected. Please change the shape of y to (n_samples, ), for example using ravel().\n",
            "  y = column_or_1d(y, warn=True)\n"
          ],
          "name": "stderr"
        }
      ]
    },
    {
      "cell_type": "code",
      "metadata": {
        "id": "dc0gPZg2nRWo",
        "colab_type": "code",
        "colab": {}
      },
      "source": [
        "model = create_model()"
      ],
      "execution_count": 0,
      "outputs": []
    },
    {
      "cell_type": "code",
      "metadata": {
        "id": "hT-CduZ4nWCc",
        "colab_type": "code",
        "colab": {
          "base_uri": "https://localhost:8080/",
          "height": 258
        },
        "outputId": "4480449b-5428-43ca-d963-caaa596f4855"
      },
      "source": [
        "history = model.fit(X_tr, Y_tr, epochs=5, batch_size=40, validation_data=(X_te,Y_te))"
      ],
      "execution_count": 60,
      "outputs": [
        {
          "output_type": "stream",
          "text": [
            "/usr/local/lib/python3.6/dist-packages/tensorflow/python/framework/indexed_slices.py:434: UserWarning: Converting sparse IndexedSlices to a dense Tensor of unknown shape. This may consume a large amount of memory.\n",
            "  \"Converting sparse IndexedSlices to a dense Tensor of unknown shape. \"\n"
          ],
          "name": "stderr"
        },
        {
          "output_type": "stream",
          "text": [
            "Train on 117045 samples, validate on 39015 samples\n",
            "Epoch 1/5\n",
            "117045/117045 [==============================] - 264s 2ms/step - loss: 1.0471 - accuracy: 0.5865 - val_loss: 0.9809 - val_accuracy: 0.6103\n",
            "Epoch 2/5\n",
            "117045/117045 [==============================] - 262s 2ms/step - loss: 0.9511 - accuracy: 0.6248 - val_loss: 0.9563 - val_accuracy: 0.6212\n",
            "Epoch 3/5\n",
            "117045/117045 [==============================] - 258s 2ms/step - loss: 0.9163 - accuracy: 0.6370 - val_loss: 0.9423 - val_accuracy: 0.6281\n",
            "Epoch 4/5\n",
            "117045/117045 [==============================] - 259s 2ms/step - loss: 0.8907 - accuracy: 0.6471 - val_loss: 0.9324 - val_accuracy: 0.6318\n",
            "Epoch 5/5\n",
            "117045/117045 [==============================] - 257s 2ms/step - loss: 0.8677 - accuracy: 0.6577 - val_loss: 0.9308 - val_accuracy: 0.6356\n"
          ],
          "name": "stdout"
        }
      ]
    },
    {
      "cell_type": "markdown",
      "metadata": {
        "id": "O10uk32QxCiN",
        "colab_type": "text"
      },
      "source": [
        "PREDICTION ON TEST DATA SET"
      ]
    },
    {
      "cell_type": "code",
      "metadata": {
        "id": "IjiWC1FzxRQv",
        "colab_type": "code",
        "colab": {
          "base_uri": "https://localhost:8080/",
          "height": 34
        },
        "outputId": "9eb0ca14-7d5c-4293-e7a8-f76129490285"
      },
      "source": [
        "y_pred=model.predict_classes(X_test[:1])\n",
        "print(y_pred[0],\" PREDICTED LABEL\")"
      ],
      "execution_count": 61,
      "outputs": [
        {
          "output_type": "stream",
          "text": [
            "2  PREDICTED LABEL\n"
          ],
          "name": "stdout"
        }
      ]
    },
    {
      "cell_type": "code",
      "metadata": {
        "id": "5HiadxmfxSRb",
        "colab_type": "code",
        "colab": {
          "base_uri": "https://localhost:8080/",
          "height": 34
        },
        "outputId": "9989c7d5-9d28-4750-d6cb-9f6d5e2b4bd5"
      },
      "source": [
        "sub_file = pd.read_csv('sampleSubmission.csv',sep=',')\n",
        "print(sub_file['Sentiment'].iloc[0],\" ACTUAL LABEL\")"
      ],
      "execution_count": 62,
      "outputs": [
        {
          "output_type": "stream",
          "text": [
            "2  ACTUAL LABEL\n"
          ],
          "name": "stdout"
        }
      ]
    },
    {
      "cell_type": "markdown",
      "metadata": {
        "id": "WltJ38KMxfee",
        "colab_type": "text"
      },
      "source": [
        "QUESTION 6 : Changing HyperParameters"
      ]
    },
    {
      "cell_type": "code",
      "metadata": {
        "id": "SlwZ0O7FARNQ",
        "colab_type": "code",
        "colab": {
          "base_uri": "https://localhost:8080/",
          "height": 272
        },
        "outputId": "5bae5bea-c882-4697-d27e-615ea3f0c744"
      },
      "source": [
        "from keras.optimizers import adam\n",
        "embed_dim=50\n",
        "lstm_out=50\n",
        "s=adam(lr=0.001)\n",
        "model1 = Sequential()\n",
        "model1.add(Embedding(13734, embed_dim, input_length = X_train.shape[1]))\n",
        "model1.add(LSTM(lstm_out, dropout=0.2, recurrent_dropout=0.2))\n",
        "model1.add(Dense(Y_train.shape[1],activation='softmax'))\n",
        "model1.compile(loss = 'binary_crossentropy', optimizer=s,metrics = ['accuracy'])\n",
        "print(model1.summary())"
      ],
      "execution_count": 63,
      "outputs": [
        {
          "output_type": "stream",
          "text": [
            "Model: \"sequential_4\"\n",
            "_________________________________________________________________\n",
            "Layer (type)                 Output Shape              Param #   \n",
            "=================================================================\n",
            "embedding_4 (Embedding)      (None, 45, 50)            686700    \n",
            "_________________________________________________________________\n",
            "lstm_4 (LSTM)                (None, 50)                20200     \n",
            "_________________________________________________________________\n",
            "dense_4 (Dense)              (None, 5)                 255       \n",
            "=================================================================\n",
            "Total params: 707,155\n",
            "Trainable params: 707,155\n",
            "Non-trainable params: 0\n",
            "_________________________________________________________________\n",
            "None\n"
          ],
          "name": "stdout"
        }
      ]
    },
    {
      "cell_type": "code",
      "metadata": {
        "id": "TTLjTO4DRWSU",
        "colab_type": "code",
        "colab": {
          "base_uri": "https://localhost:8080/",
          "height": 258
        },
        "outputId": "a0f407c5-e079-4afd-b773-dffb2ec8a4a0"
      },
      "source": [
        "history1 = model1.fit(X_tr, Y_tr, epochs=5, batch_size=50, validation_data=(X_te,Y_te))"
      ],
      "execution_count": 64,
      "outputs": [
        {
          "output_type": "stream",
          "text": [
            "/usr/local/lib/python3.6/dist-packages/tensorflow/python/framework/indexed_slices.py:434: UserWarning: Converting sparse IndexedSlices to a dense Tensor of unknown shape. This may consume a large amount of memory.\n",
            "  \"Converting sparse IndexedSlices to a dense Tensor of unknown shape. \"\n"
          ],
          "name": "stderr"
        },
        {
          "output_type": "stream",
          "text": [
            "Train on 117045 samples, validate on 39015 samples\n",
            "Epoch 1/5\n",
            "117045/117045 [==============================] - 207s 2ms/step - loss: 0.3582 - accuracy: 0.8432 - val_loss: 0.3356 - val_accuracy: 0.8518\n",
            "Epoch 2/5\n",
            "117045/117045 [==============================] - 207s 2ms/step - loss: 0.3306 - accuracy: 0.8536 - val_loss: 0.3300 - val_accuracy: 0.8534\n",
            "Epoch 3/5\n",
            "117045/117045 [==============================] - 206s 2ms/step - loss: 0.3234 - accuracy: 0.8572 - val_loss: 0.3272 - val_accuracy: 0.8544\n",
            "Epoch 4/5\n",
            "117045/117045 [==============================] - 207s 2ms/step - loss: 0.3179 - accuracy: 0.8599 - val_loss: 0.3251 - val_accuracy: 0.8556\n",
            "Epoch 5/5\n",
            "117045/117045 [==============================] - 207s 2ms/step - loss: 0.3132 - accuracy: 0.8621 - val_loss: 0.3233 - val_accuracy: 0.8566\n"
          ],
          "name": "stdout"
        }
      ]
    },
    {
      "cell_type": "code",
      "metadata": {
        "id": "hejkqD3PRp6F",
        "colab_type": "code",
        "colab": {}
      },
      "source": [
        ""
      ],
      "execution_count": 0,
      "outputs": []
    }
  ]
}