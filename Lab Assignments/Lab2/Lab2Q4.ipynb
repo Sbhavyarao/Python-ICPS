{
  "nbformat": 4,
  "nbformat_minor": 0,
  "metadata": {
    "colab": {
      "name": "Lab2Q4.ipynb",
      "provenance": []
    },
    "kernelspec": {
      "name": "python3",
      "display_name": "Python 3"
    },
    "accelerator": "TPU"
  },
  "cells": [
    {
      "cell_type": "code",
      "metadata": {
        "id": "gl4Ysff-B7Dz",
        "colab_type": "code",
        "colab": {}
      },
      "source": [
        "import re\n",
        "import matplotlib.pyplot as plot\n",
        "import pandas as pd\n",
        "from keras import Sequential\n",
        "from keras.constraints import maxnorm\n",
        "from keras.layers import Embedding, Conv1D, Dropout, MaxPooling1D, Flatten, Dense, LSTM, GlobalMaxPooling1D\n",
        "from keras.optimizers import SGD\n",
        "from keras.utils import to_categorical\n",
        "from keras_preprocessing.sequence import pad_sequences\n",
        "from keras_preprocessing.text import Tokenizer\n",
        "from sklearn.model_selection import train_test_split\n",
        "from sklearn.preprocessing import LabelEncoder"
      ],
      "execution_count": 0,
      "outputs": []
    },
    {
      "cell_type": "code",
      "metadata": {
        "id": "mGIUyUM7CB5m",
        "colab_type": "code",
        "colab": {}
      },
      "source": [
        "train_movie_df = pd.read_csv('train.tsv', delimiter='\\t', encoding='utf-8')\n",
        "test_movie_df = pd.read_csv('test.tsv', delimiter='\\t', encoding='utf-8')"
      ],
      "execution_count": 0,
      "outputs": []
    },
    {
      "cell_type": "code",
      "metadata": {
        "id": "XLWhIRQkCEf8",
        "colab_type": "code",
        "colab": {}
      },
      "source": [
        "train_movie_df = train_movie_df.drop(columns=['PhraseId', 'SentenceId'])\n",
        "label=train_movie_df[['Sentiment']]\n",
        "train_movie_df=train_movie_df.drop(columns=['Sentiment'])\n",
        "test_movie_df = test_movie_df.drop(columns=['PhraseId', 'SentenceId'])"
      ],
      "execution_count": 0,
      "outputs": []
    },
    {
      "cell_type": "code",
      "metadata": {
        "id": "4NDYP1cBCHps",
        "colab_type": "code",
        "colab": {}
      },
      "source": [
        "train_movie_df['Phrase'] = train_movie_df['Phrase'].apply(lambda x: re.sub('[^a-zA-z0-9\\s]', '', x.lower()))\n",
        "test_movie_df['Phrase'] = test_movie_df['Phrase'].apply(lambda x: re.sub('[^a-zA-z0-9\\s]', '', x.lower()))"
      ],
      "execution_count": 0,
      "outputs": []
    },
    {
      "cell_type": "code",
      "metadata": {
        "id": "KsbSdmE4CJ7f",
        "colab_type": "code",
        "colab": {}
      },
      "source": [
        "max_fatures = 2000\n",
        "tokenizer = Tokenizer(num_words=max_fatures, split=' ')\n",
        "tokenizer.fit_on_texts(train_movie_df['Phrase'].values)\n",
        "X_train = tokenizer.texts_to_sequences(train_movie_df['Phrase'].values)\n",
        "X_train = pad_sequences(X_train)"
      ],
      "execution_count": 0,
      "outputs": []
    },
    {
      "cell_type": "code",
      "metadata": {
        "id": "2eV6cjP3uso0",
        "colab_type": "code",
        "colab": {
          "base_uri": "https://localhost:8080/",
          "height": 34
        },
        "outputId": "03262c61-0086-4340-b56d-7c434539e75d"
      },
      "source": [
        "X_train.shape"
      ],
      "execution_count": 25,
      "outputs": [
        {
          "output_type": "execute_result",
          "data": {
            "text/plain": [
              "(156060, 45)"
            ]
          },
          "metadata": {
            "tags": []
          },
          "execution_count": 25
        }
      ]
    },
    {
      "cell_type": "code",
      "metadata": {
        "id": "t_4PhTHLCMR6",
        "colab_type": "code",
        "colab": {}
      },
      "source": [
        "max_fatures = 1000\n",
        "tokenizer = Tokenizer(num_words=max_fatures, split=' ')\n",
        "tokenizer.fit_on_texts(test_movie_df['Phrase'].values)\n",
        "X_test = tokenizer.texts_to_sequences(test_movie_df['Phrase'].values)\n",
        "X_test = pad_sequences(X_test)"
      ],
      "execution_count": 0,
      "outputs": []
    },
    {
      "cell_type": "code",
      "metadata": {
        "id": "uQK3rm59uwYi",
        "colab_type": "code",
        "colab": {
          "base_uri": "https://localhost:8080/",
          "height": 34
        },
        "outputId": "2145a4a9-9fb0-4b54-d033-7f6f98b13ee2"
      },
      "source": [
        "X_test.shape"
      ],
      "execution_count": 27,
      "outputs": [
        {
          "output_type": "execute_result",
          "data": {
            "text/plain": [
              "(66292, 45)"
            ]
          },
          "metadata": {
            "tags": []
          },
          "execution_count": 27
        }
      ]
    },
    {
      "cell_type": "code",
      "metadata": {
        "id": "y5ZGdlBMCPzo",
        "colab_type": "code",
        "colab": {}
      },
      "source": [
        "embed_dim = 128\n",
        "# lstm_out = 196 \n",
        "num_classes = 5"
      ],
      "execution_count": 0,
      "outputs": []
    },
    {
      "cell_type": "code",
      "metadata": {
        "id": "6a3NmmexCTz3",
        "colab_type": "code",
        "colab": {}
      },
      "source": [
        "def create_model():\n",
        "    model = Sequential()\n",
        "    model.add(Embedding(13734, embed_dim, input_length=X_train.shape[1]))\n",
        "    model.add(Dropout(0.2))\n",
        "    model.add(Conv1D(64, kernel_size=3, padding='same', activation='relu', strides=1))\n",
        "    model.add(GlobalMaxPooling1D())\n",
        "    model.add(Dense(128, activation='relu'))\n",
        "    model.add(Dropout(0.2))\n",
        "    model.add(Dense(num_classes, activation='softmax'))\n",
        "    model.compile(loss='categorical_crossentropy', optimizer='adam', metrics=['accuracy'])\n",
        "    return model"
      ],
      "execution_count": 0,
      "outputs": []
    },
    {
      "cell_type": "code",
      "metadata": {
        "id": "cDmht1NIGxIB",
        "colab_type": "code",
        "colab": {
          "base_uri": "https://localhost:8080/",
          "height": 105
        },
        "outputId": "80133410-648b-4c67-cfe6-21afd147faee"
      },
      "source": [
        "label_encoder = LabelEncoder()\n",
        "integer_encoded = label_encoder.fit_transform(label)\n",
        "Y_train = to_categorical(integer_encoded)\n",
        "X_tr, X_te, Y_tr, Y_te = train_test_split(X_train, Y_train, test_size=0.25, random_state=30)\n",
        "print(X_tr.shape,Y_tr.shape)\n",
        "print(X_te.shape,Y_te.shape)"
      ],
      "execution_count": 37,
      "outputs": [
        {
          "output_type": "stream",
          "text": [
            "(117045, 45) (117045, 5)\n",
            "(39015, 45) (39015, 5)\n"
          ],
          "name": "stdout"
        },
        {
          "output_type": "stream",
          "text": [
            "/usr/local/lib/python3.6/dist-packages/sklearn/preprocessing/_label.py:251: DataConversionWarning: A column-vector y was passed when a 1d array was expected. Please change the shape of y to (n_samples, ), for example using ravel().\n",
            "  y = column_or_1d(y, warn=True)\n"
          ],
          "name": "stderr"
        }
      ]
    },
    {
      "cell_type": "code",
      "metadata": {
        "id": "wgAT6grVvSAV",
        "colab_type": "code",
        "colab": {}
      },
      "source": [
        "model = create_model()"
      ],
      "execution_count": 0,
      "outputs": []
    },
    {
      "cell_type": "code",
      "metadata": {
        "id": "mlzcFkoXCY9f",
        "colab_type": "code",
        "colab": {
          "base_uri": "https://localhost:8080/",
          "height": 258
        },
        "outputId": "55011fcb-1764-4b46-e567-dbc6c8d99b93"
      },
      "source": [
        "history = model.fit(X_tr, Y_tr, epochs=5, batch_size=512, validation_data=(X_te,Y_te))"
      ],
      "execution_count": 39,
      "outputs": [
        {
          "output_type": "stream",
          "text": [
            "/usr/local/lib/python3.6/dist-packages/tensorflow/python/framework/indexed_slices.py:434: UserWarning: Converting sparse IndexedSlices to a dense Tensor of unknown shape. This may consume a large amount of memory.\n",
            "  \"Converting sparse IndexedSlices to a dense Tensor of unknown shape. \"\n"
          ],
          "name": "stderr"
        },
        {
          "output_type": "stream",
          "text": [
            "Train on 117045 samples, validate on 39015 samples\n",
            "Epoch 1/5\n",
            "117045/117045 [==============================] - 36s 308us/step - loss: 1.1599 - accuracy: 0.5512 - val_loss: 1.0128 - val_accuracy: 0.6033\n",
            "Epoch 2/5\n",
            "117045/117045 [==============================] - 36s 306us/step - loss: 0.9832 - accuracy: 0.6157 - val_loss: 0.9772 - val_accuracy: 0.6161\n",
            "Epoch 3/5\n",
            "117045/117045 [==============================] - 36s 305us/step - loss: 0.9318 - accuracy: 0.6354 - val_loss: 0.9389 - val_accuracy: 0.6261\n",
            "Epoch 4/5\n",
            "117045/117045 [==============================] - 36s 304us/step - loss: 0.8920 - accuracy: 0.6512 - val_loss: 0.9244 - val_accuracy: 0.6321\n",
            "Epoch 5/5\n",
            "117045/117045 [==============================] - 36s 305us/step - loss: 0.8612 - accuracy: 0.6629 - val_loss: 0.9183 - val_accuracy: 0.6349\n"
          ],
          "name": "stdout"
        }
      ]
    },
    {
      "cell_type": "markdown",
      "metadata": {
        "id": "aR1KXCe_x613",
        "colab_type": "text"
      },
      "source": [
        "VALIDATION ON TEST DATA SET"
      ]
    },
    {
      "cell_type": "code",
      "metadata": {
        "id": "6hwd84Lux_jw",
        "colab_type": "code",
        "colab": {
          "base_uri": "https://localhost:8080/",
          "height": 34
        },
        "outputId": "404ce3ad-858b-4819-abfb-27446b97a5ad"
      },
      "source": [
        "y_pred=model.predict_classes(X_test[:1])\n",
        "print(y_pred[0],\" PREDICTED LABEL\")"
      ],
      "execution_count": 40,
      "outputs": [
        {
          "output_type": "stream",
          "text": [
            "2  PREDICTED LABEL\n"
          ],
          "name": "stdout"
        }
      ]
    },
    {
      "cell_type": "code",
      "metadata": {
        "id": "3ST-MNoAyPUB",
        "colab_type": "code",
        "colab": {
          "base_uri": "https://localhost:8080/",
          "height": 34
        },
        "outputId": "af87ab64-dd68-4ca5-e000-974e78d916b6"
      },
      "source": [
        "sub_file = pd.read_csv('sampleSubmission.csv',sep=',')\n",
        "print(sub_file['Sentiment'].iloc[0],\" ACTUAL LABEL\")"
      ],
      "execution_count": 41,
      "outputs": [
        {
          "output_type": "stream",
          "text": [
            "2  ACTUAL LABEL\n"
          ],
          "name": "stdout"
        }
      ]
    },
    {
      "cell_type": "markdown",
      "metadata": {
        "id": "4wHDPknayhR0",
        "colab_type": "text"
      },
      "source": [
        "QUESTION 6: TUNE THE HYPER PARAMETERS"
      ]
    },
    {
      "cell_type": "code",
      "metadata": {
        "id": "GxPhkefRCb9h",
        "colab_type": "code",
        "colab": {}
      },
      "source": [
        "from keras.optimizers import adam\n",
        "s=adam(lr=0.001)\n",
        "model1= Sequential()\n",
        "model1.add(Embedding(13734,50,input_length=X_train.shape[1]))\n",
        "model1.add(Dropout(0.2))\n",
        "model1.add(Conv1D(64,kernel_size=3,padding='same',activation='relu',strides=1))\n",
        "model1.add(GlobalMaxPooling1D())\n",
        "model1.add(Dense(128,activation='relu'))\n",
        "model1.add(Dropout(0.2))\n",
        "model1.add(Dense(num_classes,activation='softmax'))\n",
        "model1.compile(loss='binary_crossentropy',optimizer=s,metrics=['accuracy'])"
      ],
      "execution_count": 0,
      "outputs": []
    },
    {
      "cell_type": "code",
      "metadata": {
        "id": "bqLZLRYARuBr",
        "colab_type": "code",
        "colab": {
          "base_uri": "https://localhost:8080/",
          "height": 258
        },
        "outputId": "18caa68c-92d1-4ad4-a90e-f70f08f170d9"
      },
      "source": [
        "history1 = model1.fit(X_tr, Y_tr, epochs=5, batch_size=512, validation_data=(X_te,Y_te))"
      ],
      "execution_count": 45,
      "outputs": [
        {
          "output_type": "stream",
          "text": [
            "/usr/local/lib/python3.6/dist-packages/tensorflow/python/framework/indexed_slices.py:434: UserWarning: Converting sparse IndexedSlices to a dense Tensor of unknown shape. This may consume a large amount of memory.\n",
            "  \"Converting sparse IndexedSlices to a dense Tensor of unknown shape. \"\n"
          ],
          "name": "stderr"
        },
        {
          "output_type": "stream",
          "text": [
            "Train on 117045 samples, validate on 39015 samples\n",
            "Epoch 1/5\n",
            "117045/117045 [==============================] - 19s 161us/step - loss: 0.3959 - accuracy: 0.8316 - val_loss: 0.3748 - val_accuracy: 0.8426\n",
            "Epoch 2/5\n",
            "117045/117045 [==============================] - 19s 160us/step - loss: 0.3531 - accuracy: 0.8475 - val_loss: 0.3415 - val_accuracy: 0.8496\n",
            "Epoch 3/5\n",
            "117045/117045 [==============================] - 19s 160us/step - loss: 0.3327 - accuracy: 0.8537 - val_loss: 0.3362 - val_accuracy: 0.8498\n",
            "Epoch 4/5\n",
            "117045/117045 [==============================] - 19s 161us/step - loss: 0.3241 - accuracy: 0.8573 - val_loss: 0.3298 - val_accuracy: 0.8531\n",
            "Epoch 5/5\n",
            "117045/117045 [==============================] - 19s 162us/step - loss: 0.3171 - accuracy: 0.8605 - val_loss: 0.3257 - val_accuracy: 0.8552\n"
          ],
          "name": "stdout"
        }
      ]
    },
    {
      "cell_type": "code",
      "metadata": {
        "id": "SA8oNAlcRxim",
        "colab_type": "code",
        "colab": {}
      },
      "source": [
        ""
      ],
      "execution_count": 0,
      "outputs": []
    }
  ]
}