{
  "nbformat": 4,
  "nbformat_minor": 0,
  "metadata": {
    "colab": {
      "name": "Lab2Q7.ipynb",
      "provenance": []
    },
    "kernelspec": {
      "name": "python3",
      "display_name": "Python 3"
    },
    "accelerator": "TPU"
  },
  "cells": [
    {
      "cell_type": "code",
      "metadata": {
        "id": "nktLtpA8jssP",
        "colab_type": "code",
        "colab": {}
      },
      "source": [
        "from keras.callbacks import TensorBoard\n",
        "from keras.layers import Input, Dense\n",
        "from keras.models import Model"
      ],
      "execution_count": 0,
      "outputs": []
    },
    {
      "cell_type": "code",
      "metadata": {
        "id": "Qz_AYI5Vj5_H",
        "colab_type": "code",
        "colab": {}
      },
      "source": [
        "# this is the size of our encoded representations\n",
        "encoding_dim = 24\n",
        "# 32 floats -> compression of factor 24.5, assuming the input is 784 floats"
      ],
      "execution_count": 0,
      "outputs": []
    },
    {
      "cell_type": "code",
      "metadata": {
        "id": "oM2gFs66j6rb",
        "colab_type": "code",
        "colab": {}
      },
      "source": [
        "# this is our input placeholder\n",
        "input_img = Input(shape=(784,))\n",
        "# \"encoded\" is the encoded representation of the input\n",
        "encoded = Dense(encoding_dim, activation='relu')(input_img)\n",
        "# \"decoded\" is the lossy reconstruction of the input\n",
        "decoded = Dense(784, activation='sigmoid')(encoded)\n",
        "# this model maps an input to its reconstruction\n",
        "autoencoder = Model(input_img, decoded)\n",
        "# seperate encoder model\n",
        "# this model maps an input to its encoded representation\n",
        "encoder = Model(input_img, encoded)\n",
        "# create a seperate decoder model\n",
        "# create a placeholder for an encoded (32-dimensional) input\n",
        "encoded_input = Input(shape=(encoding_dim,))\n",
        "# retrieve the last layer of the autoencoder model\n",
        "decoder_layer = autoencoder.layers[-1]\n",
        "# create the decoder model\n",
        "decoder = Model(encoded_input, decoder_layer(encoded_input))\n",
        "autoencoder.compile(optimizer='adadelta', loss='binary_crossentropy')"
      ],
      "execution_count": 0,
      "outputs": []
    },
    {
      "cell_type": "code",
      "metadata": {
        "id": "1SkG3XwTj_FA",
        "colab_type": "code",
        "colab": {}
      },
      "source": [
        "from keras.datasets import mnist\n",
        "import numpy as np"
      ],
      "execution_count": 0,
      "outputs": []
    },
    {
      "cell_type": "code",
      "metadata": {
        "id": "P1oJfE5TkCMW",
        "colab_type": "code",
        "colab": {
          "base_uri": "https://localhost:8080/",
          "height": 731
        },
        "outputId": "2facf0d2-83e6-4594-be37-156f6b79ed62"
      },
      "source": [
        "(x_train,y_train), (x_test,y_test) = mnist.load_data()\n",
        "x_train = x_train.astype('float32') / 255.\n",
        "x_test = x_test.astype('float32') / 255.\n",
        "x_train = x_train.reshape((len(x_train), np.prod(x_train.shape[1:])))\n",
        "x_test = x_test.reshape((len(x_test), np.prod(x_test.shape[1:])))\n",
        "# tensorboard = TensorBoard(write_graph=True, log_dir=\"/tmp/tensor-board/auto-encoders\", histogram_freq=0)\n",
        "autoencoder.fit(x_train, x_train,epochs=20,batch_size=256,shuffle=True,verbose=1, validation_data=(x_test, x_test))"
      ],
      "execution_count": 19,
      "outputs": [
        {
          "output_type": "stream",
          "text": [
            "Train on 60000 samples, validate on 10000 samples\n",
            "Epoch 1/20\n",
            "60000/60000 [==============================] - 2s 41us/step - loss: 0.3652 - val_loss: 0.2727\n",
            "Epoch 2/20\n",
            "60000/60000 [==============================] - 2s 40us/step - loss: 0.2672 - val_loss: 0.2582\n",
            "Epoch 3/20\n",
            "60000/60000 [==============================] - 2s 40us/step - loss: 0.2490 - val_loss: 0.2373\n",
            "Epoch 4/20\n",
            "60000/60000 [==============================] - 2s 41us/step - loss: 0.2300 - val_loss: 0.2199\n",
            "Epoch 5/20\n",
            "60000/60000 [==============================] - 2s 40us/step - loss: 0.2149 - val_loss: 0.2069\n",
            "Epoch 6/20\n",
            "60000/60000 [==============================] - 2s 39us/step - loss: 0.2033 - val_loss: 0.1965\n",
            "Epoch 7/20\n",
            "60000/60000 [==============================] - 2s 39us/step - loss: 0.1936 - val_loss: 0.1877\n",
            "Epoch 8/20\n",
            "60000/60000 [==============================] - 2s 39us/step - loss: 0.1857 - val_loss: 0.1810\n",
            "Epoch 9/20\n",
            "60000/60000 [==============================] - 2s 39us/step - loss: 0.1794 - val_loss: 0.1753\n",
            "Epoch 10/20\n",
            "60000/60000 [==============================] - 2s 40us/step - loss: 0.1742 - val_loss: 0.1705\n",
            "Epoch 11/20\n",
            "60000/60000 [==============================] - 2s 40us/step - loss: 0.1697 - val_loss: 0.1662\n",
            "Epoch 12/20\n",
            "60000/60000 [==============================] - 2s 38us/step - loss: 0.1657 - val_loss: 0.1624\n",
            "Epoch 13/20\n",
            "60000/60000 [==============================] - 2s 38us/step - loss: 0.1621 - val_loss: 0.1590\n",
            "Epoch 14/20\n",
            "60000/60000 [==============================] - 2s 39us/step - loss: 0.1588 - val_loss: 0.1558\n",
            "Epoch 15/20\n",
            "60000/60000 [==============================] - 2s 39us/step - loss: 0.1558 - val_loss: 0.1531\n",
            "Epoch 16/20\n",
            "60000/60000 [==============================] - 2s 38us/step - loss: 0.1530 - val_loss: 0.1503\n",
            "Epoch 17/20\n",
            "60000/60000 [==============================] - 2s 41us/step - loss: 0.1505 - val_loss: 0.1479\n",
            "Epoch 18/20\n",
            "60000/60000 [==============================] - 2s 40us/step - loss: 0.1481 - val_loss: 0.1455\n",
            "Epoch 19/20\n",
            "60000/60000 [==============================] - 2s 38us/step - loss: 0.1459 - val_loss: 0.1434\n",
            "Epoch 20/20\n",
            "60000/60000 [==============================] - 2s 38us/step - loss: 0.1438 - val_loss: 0.1413\n"
          ],
          "name": "stdout"
        },
        {
          "output_type": "execute_result",
          "data": {
            "text/plain": [
              "<keras.callbacks.callbacks.History at 0x7fd55e3c0cf8>"
            ]
          },
          "metadata": {
            "tags": []
          },
          "execution_count": 19
        }
      ]
    },
    {
      "cell_type": "code",
      "metadata": {
        "id": "q_eFA0G7MLjS",
        "colab_type": "code",
        "colab": {}
      },
      "source": [
        "# encode and decode some digits\n",
        "# note that we take them from the *test* set\n",
        "encoded_imgs = encoder.predict(x_test)\n",
        "decoded_imgs = decoder.predict(encoded_imgs)"
      ],
      "execution_count": 0,
      "outputs": []
    },
    {
      "cell_type": "code",
      "metadata": {
        "id": "Tsh-_-xZk2vz",
        "colab_type": "code",
        "colab": {
          "base_uri": "https://localhost:8080/",
          "height": 252
        },
        "outputId": "980e18f3-5d7e-4b54-ddef-3afad0be7dcb"
      },
      "source": [
        "# use Matplotlib\n",
        "import matplotlib.pyplot as plt\n",
        "\n",
        "# displaying original and reconstructed image\n",
        "n = 1  # how many images we will display\n",
        "plt.figure(figsize=(20, 4))\n",
        "for i in range(n):\n",
        "    # display original\n",
        "    ax = plt.subplot(2, n, i + 1)\n",
        "    plt.imshow(x_test[i+4].reshape(28, 28))\n",
        "    plt.gray()\n",
        "    ax.get_xaxis().set_visible(False)\n",
        "    ax.get_yaxis().set_visible(False)\n",
        "\n",
        "    # display reconstruction\n",
        "    ax = plt.subplot(2, n, i + 1 + n)\n",
        "    plt.imshow(decoded_imgs[i+4].reshape(28, 28))\n",
        "    plt.gray()\n",
        "    ax.get_xaxis().set_visible(False)\n",
        "    ax.get_yaxis().set_visible(False)\n",
        "plt.show()"
      ],
      "execution_count": 21,
      "outputs": [
        {
          "output_type": "display_data",
          "data": {
            "image/png": "[encoded data removed]",
            "text/plain": [
              "<Figure size 1440x288 with 2 Axes>"
            ]
          },
          "metadata": {
            "tags": [],
            "needs_background": "light"
          }
        }
      ]
    },
    {
      "cell_type": "code",
      "metadata": {
        "id": "6JFGMJ0dM013",
        "colab_type": "code",
        "colab": {}
      },
      "source": [
        ""
      ],
      "execution_count": 0,
      "outputs": []
    }
  ]
}